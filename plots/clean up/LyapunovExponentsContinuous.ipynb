{
 "cells": [
  {
   "cell_type": "code",
   "execution_count": 1,
   "metadata": {},
   "outputs": [],
   "source": [
    "using DynamicalSystems\n",
    "using LinearAlgebra\n",
    "using ProgressMeter\n",
    "using Distributed\n",
    "using Plots\n",
    "using SharedArrays\n",
    "using Base.Iterators\n",
    "using DifferentialEquations\n",
    "\n",
    "σ(x) = 1/(1+exp(-x));\n",
    "W(α,θ) = α*[cos(θ) -sin(θ); sin(θ) cos(θ)];\n",
    "\n",
    "function RNN(dx, x, p, n)\n",
    "    α,θ = p\n",
    "    dx.=tanh.(W(α,θ)*x).-x\n",
    "    return\n",
    "end\n",
    "# Jacobian:\n",
    "function RNN_jac(J, x, p, n)\n",
    "    α,θ = p\n",
    "    dx=tanh.(W(α,θ)*x)\n",
    "    J.= Diagonal(1. .-dx.^2)*W(α,θ) - I\n",
    "    return\n",
    "end\n",
    "\n",
    "αs = collect(1.1:0.1:10.)\n",
    "αs = prepend!(αs, 1. .+[1e-3,1e-2])\n",
    "αs = prepend!(αs, collect(0:0.1:1.))\n",
    "\n",
    "θs = range(0, stop=π, length=100)\n",
    "\n",
    "stuff_to_loop_over = product(αs,θs)|>collect;"
   ]
  },
  {
   "cell_type": "code",
   "execution_count": 5,
   "metadata": {},
   "outputs": [],
   "source": [
    "using NPZ"
   ]
  },
  {
   "cell_type": "code",
   "execution_count": 2,
   "metadata": {},
   "outputs": [
    {
     "data": {
      "text/plain": [
       "14"
      ]
     },
     "execution_count": 2,
     "metadata": {},
     "output_type": "execute_result"
    }
   ],
   "source": [
    "Threads.nthreads()"
   ]
  },
  {
   "cell_type": "code",
   "execution_count": 3,
   "metadata": {},
   "outputs": [
    {
     "name": "stderr",
     "output_type": "stream",
     "text": [
      "\u001b[32mProgress: 100%|█████████████████████████████████████████| Time: 1:20:04\u001b[39m6:02\u001b[39m\n"
     ]
    }
   ],
   "source": [
    "numel = length(stuff_to_loop_over);\n",
    "Λ₁s = zeros(Float64, length(αs)*length(θs));\n",
    "Λ₂s = zeros(Float64, length(αs)*length(θs));\n",
    "tmax = 2000.\n",
    "transient = 500.\n",
    "\n",
    "p = Progress(numel);\n",
    "jj = Threads.Atomic{Int}(0)\n",
    "l = Threads.SpinLock()\n",
    "\n",
    "Threads.@threads for i in 1:numel\n",
    "    \n",
    "    α, θ = stuff_to_loop_over[i]\n",
    "    ds = ContinuousDynamicalSystem(RNN, [0.5,0.5], [α θ], RNN_jac)\n",
    "    λs = lyapunovs(ds, 1e4, Ttr = transient, dt=.1, alg=Tsit5(),tstops=0.:1e-2:tmax)\n",
    "    Λ₁s[i]= λs[1]\n",
    "    Λ₂s[i]= λs[2]\n",
    "    \n",
    "    Threads.atomic_add!(jj, 1)\n",
    "    Threads.lock(l)\n",
    "        update!(p, jj[])\n",
    "    Threads.unlock(l)\n",
    "end"
   ]
  },
  {
   "cell_type": "code",
   "execution_count": 6,
   "metadata": {},
   "outputs": [],
   "source": [
    "npzwrite(\"LE_ode_tanh.npz\", Dict(\"alpha\" => αs, \"thetas\" => θs, \"LE1\" => Λ₁s, \"LE2\"=>Λ₂s))"
   ]
  },
  {
   "cell_type": "code",
   "execution_count": null,
   "metadata": {},
   "outputs": [],
   "source": [
    "function GRU!(du,u,p,t)\n",
    "    α,θ,β = p\n",
    "    r = 0.5\n",
    "    du .= (σ(β)-1).*(u - tanh.(0.5.*W(α,θ)*u))\n",
    "end"
   ]
  },
  {
   "cell_type": "code",
   "execution_count": null,
   "metadata": {},
   "outputs": [],
   "source": [
    "αs = range(2, stop=10, length=100+1)\n",
    "θs = range(0, stop=π, length=100+1)\n",
    "gates = range(-5, stop=5, length=2)\n",
    "stuff_to_loop_over = product(αs,θs,gates)|>collect;\n",
    "\n",
    "numel = length(stuff_to_loop_over);\n",
    "Λ₁s = zeros(Float64, numel);\n",
    "Λ₂s = zeros(Float64, numel);\n",
    "\n",
    "p = Progress(numel);\n",
    "jj = Threads.Atomic{Int}(0)\n",
    "l = Threads.SpinLock()\n",
    "\n",
    "Threads.@threads for i in 1:numel\n",
    "    \n",
    "    α, θ, gate = stuff_to_loop_over[i]\n",
    "    ds = ContinuousDynamicalSystem(GRU!, [0.5,0.5], [α θ gate])\n",
    "    λs = lyapunovs(ds, 1e4, Ttr = transient, dt=.1, alg=Tsit5(),tstops=0.:1e-2:tmax)\n",
    "    Λ₁s[i]= λs[1]\n",
    "    Λ₂s[i]= λs[2]\n",
    "    \n",
    "    Threads.atomic_add!(jj, 1)\n",
    "    Threads.lock(l)\n",
    "        update!(p, jj[])\n",
    "    Threads.unlock(l)\n",
    "end\n",
    "npzwrite(\"LE_ode_gru.npz\", Dict(\"alpha\" => αs, \"thetas\" => θs, \"gates\"=>gates, \"LE1\" => Λ₁s, \"LE2\"=>Λ₂s))"
   ]
  }
 ],
 "metadata": {
  "kernelspec": {
   "display_name": "Julia 1.4.0",
   "language": "julia",
   "name": "julia-1.4"
  },
  "language_info": {
   "file_extension": ".jl",
   "mimetype": "application/julia",
   "name": "julia",
   "version": "1.4.0"
  }
 },
 "nbformat": 4,
 "nbformat_minor": 4
}
