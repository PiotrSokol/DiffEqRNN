{
 "cells": [
  {
   "cell_type": "code",
   "execution_count": 1,
   "metadata": {},
   "outputs": [
    {
     "name": "stderr",
     "output_type": "stream",
     "text": [
      "┌ Info: Precompiling OrdinaryDiffEq [1dea7af3-3e70-54e6-95c3-0bf5283fa5ed]\n",
      "└ @ Base loading.jl:1278\n",
      "┌ Info: Precompiling DiffEqSensitivity [41bf760c-e81c-5289-8e54-58b1f1f8abe2]\n",
      "└ @ Base loading.jl:1278\n"
     ]
    }
   ],
   "source": [
    "using Statistics\n",
    "using DataInterpolations\n",
    "using Flux\n",
    "using OrdinaryDiffEq\n",
    "using DiffEqSensitivity\n",
    "using Zygote\n",
    "using ProgressBars\n",
    "using Random"
   ]
  },
  {
   "cell_type": "code",
   "execution_count": 2,
   "metadata": {},
   "outputs": [
    {
     "name": "stdout",
     "output_type": "stream",
     "text": [
      "100.0%┣███████████████████████████████████┫ 5120/5120 [00:01<00:00, 6399.4 it/s]\n"
     ]
    }
   ],
   "source": [
    "T = Float32\n",
    "\n",
    "const bs = 512\n",
    "X = [rand(T, 10, 50) for _ in 1:bs*10]\n",
    "\n",
    "function create_spline(i)\n",
    "    x = X[i]\n",
    "    t = x[end, :]\n",
    "    t = (t .- minimum(t)) ./ (maximum(t) - minimum(t))\n",
    "\n",
    "    spline = QuadraticInterpolation(x, t)\n",
    "end\n",
    "\n",
    "splines = [create_spline(i) for i in tqdm(1:length(X))];"
   ]
  },
  {
   "cell_type": "code",
   "execution_count": 3,
   "metadata": {},
   "outputs": [
    {
     "name": "stdout",
     "output_type": "stream",
     "text": [
      "100.0%┣█████████████████████████████████████████┫ 10/10 [00:00<00:00, 73.6 it/s]\n"
     ]
    }
   ],
   "source": [
    "rand_inds = randperm(length(X))\n",
    "\n",
    "i_sz = size(X[1], 1)\n",
    "h_sz = 16\n",
    "\n",
    "use_gpu = true\n",
    "batches = [[splines[rand_inds[(i-1)*bs+1:i*bs]]] for i in tqdm(1:length(X)÷bs)];"
   ]
  },
  {
   "cell_type": "code",
   "execution_count": 4,
   "metadata": {},
   "outputs": [
    {
     "data": {
      "text/plain": [
       "derivative_call_and_cat (generic function with 1 method)"
      ]
     },
     "execution_count": 4,
     "metadata": {},
     "output_type": "execute_result"
    }
   ],
   "source": [
    "data_ = Iterators.cycle(batches)\n",
    "\n",
    "function call_and_cat(splines, t)\n",
    "    vals = Zygote.ignore() do\n",
    "        vals = reduce(hcat,[spline(t) for spline in splines])\n",
    "    end\n",
    "    vals |> (use_gpu ? gpu : cpu)\n",
    "end\n",
    "\n",
    "function derivative(A::QuadraticInterpolation, t::Number)\n",
    "    idx = findfirst(x -> x >= t, A.t) - 1\n",
    "    idx == 0 ? idx += 1 : nothing\n",
    "    if idx == length(A.t) - 1\n",
    "        i₀ = idx - 1; i₁ = idx; i₂ = i₁ + 1;\n",
    "    else\n",
    "        i₀ = idx; i₁ = i₀ + 1; i₂ = i₁ + 1;\n",
    "    end\n",
    "    dl₀ = (2t - A.t[i₁] - A.t[i₂]) / ((A.t[i₀] - A.t[i₁]) * (A.t[i₀] - A.t[i₂]))\n",
    "    dl₁ = (2t - A.t[i₀] - A.t[i₂]) / ((A.t[i₁] - A.t[i₀]) * (A.t[i₁] - A.t[i₂]))\n",
    "    dl₂ = (2t - A.t[i₀] - A.t[i₁]) / ((A.t[i₂] - A.t[i₀]) * (A.t[i₂] - A.t[i₁]))\n",
    "    @views @. A.u[:, i₀] * dl₀ + A.u[:, i₁] * dl₁ + A.u[:, i₂] * dl₂\n",
    "end\n",
    "\n",
    "function derivative_call_and_cat(splines, t)\n",
    "    vals = Zygote.ignore() do\n",
    "        reduce(hcat,[derivative(spline, t) for spline in splines]) |> (use_gpu ? gpu : cpu)\n",
    "    end\n",
    "end"
   ]
  },
  {
   "cell_type": "code",
   "execution_count": 5,
   "metadata": {},
   "outputs": [],
   "source": [
    "cde = Chain(\n",
    "    Dense(h_sz, h_sz, relu),\n",
    "    Dense(h_sz, h_sz*i_sz, tanh),\n",
    ") |> (use_gpu ? gpu : cpu)\n",
    "\n",
    "h_to_out = Dense(h_sz, 2) |> (use_gpu ? gpu : cpu)\n",
    "\n",
    "initial = Dense(i_sz, h_sz) |> (use_gpu ? gpu : cpu)\n",
    "\n",
    "cde_p, cde_re = Flux.destructure(cde)\n",
    "initial_p, initial_re = Flux.destructure(initial)\n",
    "h_to_out_p, h_to_out_re = Flux.destructure(h_to_out);"
   ]
  },
  {
   "cell_type": "code",
   "execution_count": 6,
   "metadata": {},
   "outputs": [
    {
     "data": {
      "text/plain": [
       "predict_func (generic function with 1 method)"
      ]
     },
     "execution_count": 6,
     "metadata": {},
     "output_type": "execute_result"
    }
   ],
   "source": [
    "basic_tgrad(u,p,t) = zero(u)\n",
    "\n",
    "function predict_func(p, BX)\n",
    "    By = call_and_cat(BX, 1)\n",
    "\n",
    "    x0 = call_and_cat(BX, 0)\n",
    "    i = 1\n",
    "    j = (i-1)+length(initial_p)\n",
    "\n",
    "    h0 = initial_re(p[i:j])(x0)\n",
    "\n",
    "    function dhdt(h,p,t)\n",
    "        x = derivative_call_and_cat(BX, t)\n",
    "        bs = size(h, 2)\n",
    "        a = reshape(cde_re(p)(h), (i_sz, h_sz, bs))\n",
    "        b = reshape(x, (1, i_sz, bs))\n",
    "\n",
    "        dh = batched_mul(b,a)[1,:,:]\n",
    "    end\n",
    "\n",
    "    i = j+1\n",
    "    j = (i-1)+length(cde_p)\n",
    "\n",
    "    tspan = (0.0f0, 0.8f0)\n",
    "\n",
    "    ff = ODEFunction{false}(dhdt,tgrad=basic_tgrad)\n",
    "    prob = ODEProblem{false}(ff,h0,tspan,p[i:j])\n",
    "    sense = InterpolatingAdjoint(autojacvec=ZygoteVJP())\n",
    "    solver = Tsit5()\n",
    "\n",
    "    sol = solve(prob,solver,u0=h0,saveat=tspan[end], save_start=false, sensealg=sense)\n",
    "    #@show sol.destats\n",
    "    i = j+1\n",
    "    j = (i-1)+length(h_to_out_p)\n",
    "\n",
    "    y_hat = h_to_out_re(p[i:j])(sol[end])\n",
    "\n",
    "    y_hat, By[1:2, :]\n",
    "end"
   ]
  },
  {
   "cell_type": "code",
   "execution_count": 12,
   "metadata": {},
   "outputs": [
    {
     "data": {
      "text/plain": [
       "176-element CUDA.CuArray{Float32,1}:\n",
       " -0.053237036\n",
       "  0.32876566\n",
       "  0.08456616\n",
       "  0.24081425\n",
       " -0.40230474\n",
       "  0.075121574\n",
       "  0.40263265\n",
       "  0.38744345\n",
       "  0.11204001\n",
       "  0.24094518\n",
       " -0.34157017\n",
       " -0.4137195\n",
       "  0.42026117\n",
       "  ⋮\n",
       "  0.0\n",
       "  0.0\n",
       "  0.0\n",
       "  0.0\n",
       "  0.0\n",
       "  0.0\n",
       "  0.0\n",
       "  0.0\n",
       "  0.0\n",
       "  0.0\n",
       "  0.0\n",
       "  0.0"
      ]
     },
     "execution_count": 12,
     "metadata": {},
     "output_type": "execute_result"
    }
   ],
   "source": [
    "initial_p"
   ]
  },
  {
   "cell_type": "code",
   "execution_count": 7,
   "metadata": {},
   "outputs": [
    {
     "data": {
      "text/plain": [
       "#16 (generic function with 1 method)"
      ]
     },
     "execution_count": 7,
     "metadata": {},
     "output_type": "execute_result"
    }
   ],
   "source": [
    "function loss_func(p, BX)\n",
    "    y_hat, y = predict_func(p, BX)\n",
    "\n",
    "    mean(sum(sqrt.((y .- y_hat).^2), dims=1))\n",
    "end\n",
    "\n",
    "p = vcat(initial_p, cde_p, h_to_out_p)\n",
    "\n",
    "callback = function (p, l)\n",
    "  display(l)\n",
    "  return false\n",
    "end"
   ]
  },
  {
   "cell_type": "code",
   "execution_count": 8,
   "metadata": {},
   "outputs": [],
   "source": [
    "using DiffEqFlux"
   ]
  },
  {
   "cell_type": "code",
   "execution_count": 9,
   "metadata": {},
   "outputs": [
    {
     "name": "stdout",
     "output_type": "stream",
     "text": [
      "  1.118676 seconds (4.39 M allocations: 381.118 MiB, 18.04% gc time)\n"
     ]
    },
    {
     "data": {
      "text/plain": [
       "(Float32[-39.13369, -28.500084, 82.741745, -154.48625, 128.3319, -124.11713, 21.34516, -44.174145, -7.20418, 49.7554  …  33.494568, -17.520622, -7.33539, -0.3212571, 12.6459, -21.196257, -21.12806, -5.5857267, -0.16796875, -0.375],)"
      ]
     },
     "execution_count": 9,
     "metadata": {},
     "output_type": "execute_result"
    }
   ],
   "source": [
    "Zygote.gradient((p)->loss_func(p, first(data_)...),p)\n",
    "@time Zygote.gradient((p)->loss_func(p, first(data_)...),p)"
   ]
  },
  {
   "cell_type": "code",
   "execution_count": 10,
   "metadata": {},
   "outputs": [
    {
     "data": {
      "text/plain": [
       "98.03215f0"
      ]
     },
     "metadata": {},
     "output_type": "display_data"
    },
    {
     "data": {
      "text/plain": [
       "205.55554f0"
      ]
     },
     "metadata": {},
     "output_type": "display_data"
    },
    {
     "name": "stderr",
     "output_type": "stream",
     "text": [
      "\u001b[32mloss: 206:  20%|████████                                |  ETA: 0:00:16\u001b[39m"
     ]
    },
    {
     "data": {
      "text/plain": [
       "119.18447f0"
      ]
     },
     "metadata": {},
     "output_type": "display_data"
    },
    {
     "name": "stderr",
     "output_type": "stream",
     "text": [
      "\u001b[32mloss: 119:  30%|████████████                            |  ETA: 0:00:12\u001b[39m"
     ]
    },
    {
     "data": {
      "text/plain": [
       "71.97586f0"
      ]
     },
     "metadata": {},
     "output_type": "display_data"
    },
    {
     "name": "stderr",
     "output_type": "stream",
     "text": [
      "\u001b[32mloss: 72:  40%|████████████████▍                        |  ETA: 0:00:10\u001b[39m"
     ]
    },
    {
     "data": {
      "text/plain": [
       "162.17494f0"
      ]
     },
     "metadata": {},
     "output_type": "display_data"
    },
    {
     "name": "stderr",
     "output_type": "stream",
     "text": [
      "\u001b[32mloss: 162:  50%|████████████████████                    |  ETA: 0:00:08\u001b[39m"
     ]
    },
    {
     "data": {
      "text/plain": [
       "295.29974f0"
      ]
     },
     "metadata": {},
     "output_type": "display_data"
    },
    {
     "name": "stderr",
     "output_type": "stream",
     "text": [
      "\u001b[32mloss: 295:  60%|████████████████████████                |  ETA: 0:00:07\u001b[39m"
     ]
    },
    {
     "data": {
      "text/plain": [
       "50.824574f0"
      ]
     },
     "metadata": {},
     "output_type": "display_data"
    },
    {
     "name": "stderr",
     "output_type": "stream",
     "text": [
      "\u001b[32mloss: 50.8:  70%|███████████████████████████▎           |  ETA: 0:00:05\u001b[39m"
     ]
    },
    {
     "data": {
      "text/plain": [
       "57.74757f0"
      ]
     },
     "metadata": {},
     "output_type": "display_data"
    },
    {
     "name": "stderr",
     "output_type": "stream",
     "text": [
      "\u001b[32mloss: 57.7:  80%|███████████████████████████████▎       |  ETA: 0:00:03\u001b[39m"
     ]
    },
    {
     "data": {
      "text/plain": [
       "239.55023f0"
      ]
     },
     "metadata": {},
     "output_type": "display_data"
    },
    {
     "name": "stderr",
     "output_type": "stream",
     "text": [
      "\u001b[32mloss: 240:  90%|████████████████████████████████████    |  ETA: 0:00:02\u001b[39m"
     ]
    },
    {
     "data": {
      "text/plain": [
       "54.899662f0"
      ]
     },
     "metadata": {},
     "output_type": "display_data"
    },
    {
     "name": "stderr",
     "output_type": "stream",
     "text": [
      "\u001b[32mloss: 54.9: 100%|███████████████████████████████████████| Time: 0:00:16\u001b[39m\n"
     ]
    },
    {
     "data": {
      "text/plain": [
       "50.824574f0"
      ]
     },
     "metadata": {},
     "output_type": "display_data"
    },
    {
     "data": {
      "text/plain": [
       " * Status: success\n",
       "\n",
       " * Candidate solution\n",
       "    Final objective value:     5.489966e+01\n",
       "\n",
       " * Found with\n",
       "    Algorithm:     ADAM\n",
       "\n",
       " * Convergence measures\n",
       "    |x - x'|               = NaN ≰ 0.0e+00\n",
       "    |x - x'|/|x'|          = NaN ≰ 0.0e+00\n",
       "    |f(x) - f(x')|         = NaN ≰ 0.0e+00\n",
       "    |f(x) - f(x')|/|f(x')| = NaN ≰ 0.0e+00\n",
       "    |g(x)|                 = NaN ≰ 0.0e+00\n",
       "\n",
       " * Work counters\n",
       "    Seconds run:   19  (vs limit Inf)\n",
       "    Iterations:    10\n",
       "    f(x) calls:    10\n",
       "    ∇f(x) calls:   10\n"
      ]
     },
     "execution_count": 10,
     "metadata": {},
     "output_type": "execute_result"
    }
   ],
   "source": [
    "result_neuralode = DiffEqFlux.sciml_train(loss_func, p, ADAM(0.05),\n",
    "    data_,\n",
    "    cb = callback,\n",
    "    maxiters = 10)"
   ]
  },
  {
   "cell_type": "code",
   "execution_count": null,
   "metadata": {},
   "outputs": [],
   "source": []
  }
 ],
 "metadata": {
  "kernelspec": {
   "display_name": "Julia 1.5.2",
   "language": "julia",
   "name": "julia-1.5"
  },
  "language_info": {
   "file_extension": ".jl",
   "mimetype": "application/julia",
   "name": "julia",
   "version": "1.5.2"
  }
 },
 "nbformat": 4,
 "nbformat_minor": 4
}
