{
 "cells": [
  {
   "cell_type": "code",
   "execution_count": 4,
   "metadata": {},
   "outputs": [],
   "source": [
    "using Random\n",
    "import LinearAlgebra.qr"
   ]
  },
  {
   "cell_type": "code",
   "execution_count": 5,
   "metadata": {},
   "outputs": [
    {
     "data": {
      "text/plain": [
       "limit_cycle (generic function with 1 method)"
      ]
     },
     "execution_count": 5,
     "metadata": {},
     "output_type": "execute_result"
    }
   ],
   "source": [
    "function limit_cycle(rng::AbstractRNG, dims...;σ=1.5f0, θ₁=π/21,θ₂=π/3.8)\n",
    "    @assert isequal(dims[1], dims[2]) && iseven(dims[1]) && iseven(dims[2])\n",
    "    W = zeros(Float32, dims...)\n",
    "    rand_block = θ ->  [cos(θ) -sin(θ) ; sin(θ) cos(θ)]\n",
    "    for i in range(1, dims[1], step=2)\n",
    "        W[i:i+1, i:i+1] = Float32(σ)*rand_block( Float32(θ₁)+rand(rng,Float32)*Float32(θ₂ - θ₁))\n",
    "    end\n",
    "    return W\n",
    "end"
   ]
  },
  {
   "cell_type": "code",
   "execution_count": 8,
   "metadata": {},
   "outputs": [
    {
     "data": {
      "text/plain": [
       "orthogonal_init (generic function with 3 methods)"
      ]
     },
     "execution_count": 8,
     "metadata": {},
     "output_type": "execute_result"
    }
   ],
   "source": [
    "limit_cycle(dims...;kwargs...) = limit_cycle(Random.GLOBAL_RNG, dims...; kwargs...)\n",
    "limit_cycle(rng::AbstractRNG; kwargs...) = (dims...; kwargs...) -> limit_cycle(rng, dims...; kwargs...)\n",
    "\n",
    "function orthogonal_init(rng::AbstractRNG, dims...; σ=1.f0)\n",
    "    Q,R = qr(randn(rng, Float32, dims...))\n",
    "    return Float32(σ).*Q*sign.(Diagonal(R))\n",
    "end\n",
    "\n",
    "orthogonal_init(dims...;kwargs...) = orthogonal_init(Random.GLOBAL_RNG, dims...; kwargs...)\n",
    "orthogonal_init(rng::AbstractRNG; kwargs...) = (dims...; kwargs...) -> orthogonal_init(rng, dims...; kwargs...)\n"
   ]
  },
  {
   "cell_type": "code",
   "execution_count": 15,
   "metadata": {},
   "outputs": [
    {
     "name": "stderr",
     "output_type": "stream",
     "text": [
      "WARNING: could not import Flux.he_normal into Main\n"
     ]
    }
   ],
   "source": [
    "abstract type AbstractRNNDELayer <: Function end\n",
    "using Flux\n",
    "import Flux: functor, gate\n",
    "import Flux: he_normal\n",
    "\"\"\"\n",
    "Vanilla RNN\n",
    "\"\"\"\n",
    "mutable struct ∂RNNCell{F,A,V} <:AbstractRNNDELayer\n",
    "  σ::F\n",
    "  Wᵢ::A\n",
    "  Wᵣ::A\n",
    "  b::V\n",
    "end\n",
    "\n",
    "∂RNNCell(in::Integer, out::Integer, σ = tanh;\n",
    "        init = he_normal, initWᵣ=limit_cycle ) =\n",
    "  ∂RNNCell(σ, init(out, in), initWᵣ(out, out),\n",
    "          zeros(out))\n",
    "\n",
    "function (m::∂RNNCell)(h, x)\n",
    "  σ, Wᵢ, Wᵣ, b = m.σ, m.Wᵢ, m.Wᵣ, m.b\n",
    "  ḣ = σ.(Wi*x .+ Wh*h .+ b).-h\n",
    "  return ḣ\n",
    "end\n",
    "\n",
    "@Flux.functor ∂RNNCell\n",
    "\n",
    "\"\"\"\n",
    "GRU\n",
    "\"\"\"\n",
    "struct ∂GRUCell{A,V} <:AbstractRNNDELayer\n",
    "  Wᵢ::A\n",
    "  Wᵣ::A\n",
    "  b::V\n",
    "end\n",
    "\n",
    "function ∂GRUCell(in, out; initWᵢ = he_normal, initWᵣ = limit_cycle, initWᵣᵤ = zeros, initb = zeros)\n",
    "  ∂GRUCell(\n",
    "  initWᵢ(out * 3, in),\n",
    "  vcat( initWᵣᵤ(2*out,in), initWᵣ(out,in) ),\n",
    "  initb(out * 3)\n",
    "  )\n",
    "end\n",
    "\n",
    "∂GRUCell(in, out, init) = ∂GRUCell(in, out; initWᵢ = init, initWᵣ = init, initWᵣᵤ = init, initb = init)\n",
    "\n",
    "function (m::∂GRUCell)(h, x)\n",
    "  b, o = m.b, size(h, 1)\n",
    "  gx, gh = m.Wi*x, m.Wh*h\n",
    "  r = σ.(gate(gx, o, 1) .+ gate(gh, o, 1) .+ gate(b, o, 1))\n",
    "  z = σ.(gate(gx, o, 2) .+ gate(gh, o, 2) .+ gate(b, o, 2))\n",
    "  h̃ = tanh.(gate(gx, o, 3) .+ r.* gate(gh, o, 3) .+ gate(b, o, 3))\n",
    "  ḣ =  (z .- 1).* (h .- h̃)\n",
    "  return ḣ\n",
    "end\n",
    "\n",
    "@Flux.functor ∂GRUCell\n"
   ]
  },
  {
   "cell_type": "code",
   "execution_count": 13,
   "metadata": {},
   "outputs": [
    {
     "ename": "LoadError",
     "evalue": "UndefVarError: he_normal not defined",
     "output_type": "error",
     "traceback": [
      "UndefVarError: he_normal not defined",
      "",
      "Stacktrace:",
      " [1] ∂GRUCell(::Int64, ::Int64) at ./In[12]:37",
      " [2] top-level scope at In[13]:1",
      " [3] include_string(::Function, ::Module, ::String, ::String) at ./loading.jl:1091",
      " [4] execute_code(::String, ::String) at /home/piotr/.julia/packages/IJulia/rWZ9e/src/execute_request.jl:27",
      " [5] execute_request(::ZMQ.Socket, ::IJulia.Msg) at /home/piotr/.julia/packages/IJulia/rWZ9e/src/execute_request.jl:86",
      " [6] #invokelatest#1 at ./essentials.jl:710 [inlined]",
      " [7] invokelatest at ./essentials.jl:709 [inlined]",
      " [8] eventloop(::ZMQ.Socket) at /home/piotr/.julia/packages/IJulia/rWZ9e/src/eventloop.jl:8",
      " [9] (::IJulia.var\"#15#18\")() at ./task.jl:356"
     ]
    }
   ],
   "source": [
    "∂GRUCell(1,10)"
   ]
  },
  {
   "cell_type": "code",
   "execution_count": null,
   "metadata": {},
   "outputs": [],
   "source": []
  }
 ],
 "metadata": {
  "kernelspec": {
   "display_name": "Julia 1.5.2",
   "language": "julia",
   "name": "julia-1.5"
  },
  "language_info": {
   "file_extension": ".jl",
   "mimetype": "application/julia",
   "name": "julia",
   "version": "1.5.2"
  }
 },
 "nbformat": 4,
 "nbformat_minor": 4
}
