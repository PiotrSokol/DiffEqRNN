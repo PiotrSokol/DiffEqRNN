{
 "cells": [
  {
   "cell_type": "code",
   "execution_count": 5,
   "metadata": {},
   "outputs": [],
   "source": [
    "using DiffEqFlux\n",
    "using DataInterpolations"
   ]
  },
  {
   "cell_type": "code",
   "execution_count": 3,
   "metadata": {},
   "outputs": [
    {
     "data": {
      "text/plain": [
       "10×1 Array{Float64,2}:\n",
       " -0.48699209888964695\n",
       "  0.048971825031671475\n",
       "  0.42570871084615003\n",
       " -1.5971390313875904\n",
       "  1.9386059016787893\n",
       "  0.5087454523259949\n",
       " -0.10891174394880136\n",
       " -1.1158012736953036\n",
       "  0.6654073677958595\n",
       " -0.3054892779478781"
      ]
     },
     "execution_count": 3,
     "metadata": {},
     "output_type": "execute_result"
    }
   ],
   "source": [
    "X = randn(10,1)"
   ]
  },
  {
   "cell_type": "code",
   "execution_count": 18,
   "metadata": {},
   "outputs": [
    {
     "data": {
      "text/plain": [
       "(::SplineLayer{Tuple{Float32,Float32},Float32,Array{Float64,1},UnionAll}) (generic function with 2 methods)"
      ]
     },
     "execution_count": 18,
     "metadata": {},
     "output_type": "execute_result"
    }
   ],
   "source": [
    "spl = SplineLayer((1.f0,10.f0),1.f0, QuadraticInterpolation, collect(1.f0:1.f0:10.f0))"
   ]
  },
  {
   "cell_type": "code",
   "execution_count": 8,
   "metadata": {},
   "outputs": [
    {
     "data": {
      "text/plain": [
       "#1 (generic function with 1 method)"
      ]
     },
     "execution_count": 8,
     "metadata": {},
     "output_type": "execute_result"
    }
   ],
   "source": [
    "a, b = rand(2)\n",
    "f = x -> a*x + b"
   ]
  },
  {
   "cell_type": "code",
   "execution_count": 23,
   "metadata": {},
   "outputs": [
    {
     "data": {
      "text/plain": [
       "10×2 Array{Float64,2}:\n",
       " 1.26644  1.26644\n",
       " 1.94028  1.94028\n",
       " 2.61413  2.61413\n",
       " 3.28798  3.28798\n",
       " 3.96182  3.96182\n",
       " 4.63567  4.63567\n",
       " 5.30952  5.30952\n",
       " 5.98336  5.98336\n",
       " 6.65721  6.65721\n",
       " 7.33106  7.33106"
      ]
     },
     "execution_count": 23,
     "metadata": {},
     "output_type": "execute_result"
    }
   ],
   "source": [
    "data_train_vals = repeat(collect(Float64, 1:10),1,2)\n",
    "data_train_fn = f.(data_train_vals)"
   ]
  },
  {
   "cell_type": "code",
   "execution_count": 22,
   "metadata": {},
   "outputs": [
    {
     "data": {
      "text/plain": [
       "10-element Array{Float64,1}:\n",
       "  0.23857215275633456\n",
       "  2.7186304291320407\n",
       " -0.029438505158567316\n",
       "  0.03230166226822958\n",
       " -0.4264606075373724\n",
       "  1.1432553902281026\n",
       "  0.653996030789239\n",
       " -0.9847867023080734\n",
       "  1.223122182176605\n",
       "  0.8121004261185756"
      ]
     },
     "execution_count": 22,
     "metadata": {},
     "output_type": "execute_result"
    }
   ],
   "source": [
    "data_pred = [spl(x) for x in data_train_vals]"
   ]
  },
  {
   "cell_type": "code",
   "execution_count": 24,
   "metadata": {},
   "outputs": [
    {
     "ename": "LoadError",
     "evalue": "MethodError: no method matching (::SplineLayer{Tuple{Float32,Float32},Float32,Array{Float64,1},UnionAll})(::Array{Float64,2})\nClosest candidates are:\n  Any(!Matched::Real) at /home/piotr/.julia/packages/DiffEqFlux/1xTu3/src/spline_layer.jl:35\n  Any(!Matched::Real, !Matched::Any) at /home/piotr/.julia/packages/DiffEqFlux/1xTu3/src/spline_layer.jl:35",
     "output_type": "error",
     "traceback": [
      "MethodError: no method matching (::SplineLayer{Tuple{Float32,Float32},Float32,Array{Float64,1},UnionAll})(::Array{Float64,2})\nClosest candidates are:\n  Any(!Matched::Real) at /home/piotr/.julia/packages/DiffEqFlux/1xTu3/src/spline_layer.jl:35\n  Any(!Matched::Real, !Matched::Any) at /home/piotr/.julia/packages/DiffEqFlux/1xTu3/src/spline_layer.jl:35",
      "",
      "Stacktrace:",
      " [1] top-level scope at In[24]:1",
      " [2] include_string(::Function, ::Module, ::String, ::String) at ./loading.jl:1091",
      " [3] execute_code(::String, ::String) at /home/piotr/.julia/packages/IJulia/rWZ9e/src/execute_request.jl:27",
      " [4] execute_request(::ZMQ.Socket, ::IJulia.Msg) at /home/piotr/.julia/packages/IJulia/rWZ9e/src/execute_request.jl:86",
      " [5] #invokelatest#1 at ./essentials.jl:710 [inlined]",
      " [6] invokelatest at ./essentials.jl:709 [inlined]",
      " [7] eventloop(::ZMQ.Socket) at /home/piotr/.julia/packages/IJulia/rWZ9e/src/eventloop.jl:8",
      " [8] (::IJulia.var\"#15#18\")() at ./task.jl:356"
     ]
    }
   ],
   "source": [
    "spl(data_train_vals)"
   ]
  },
  {
   "cell_type": "code",
   "execution_count": null,
   "metadata": {},
   "outputs": [],
   "source": []
  }
 ],
 "metadata": {
  "kernelspec": {
   "display_name": "Julia 1.5.2",
   "language": "julia",
   "name": "julia-1.5"
  },
  "language_info": {
   "file_extension": ".jl",
   "mimetype": "application/julia",
   "name": "julia",
   "version": "1.5.2"
  }
 },
 "nbformat": 4,
 "nbformat_minor": 4
}
