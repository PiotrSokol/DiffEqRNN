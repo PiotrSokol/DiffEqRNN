{
 "metadata": {
  "language_info": {
   "codemirror_mode": {
    "name": "ipython",
    "version": 3
   },
   "file_extension": ".py",
   "mimetype": "text/x-python",
   "name": "python",
   "nbconvert_exporter": "python",
   "pygments_lexer": "ipython3",
   "version": "3.7.6-final"
  },
  "orig_nbformat": 2,
  "kernelspec": {
   "name": "julia-1.5",
   "display_name": "Julia 1.5.1"
  }
 },
 "nbformat": 4,
 "nbformat_minor": 2,
 "cells": [
  {
   "cell_type": "code",
   "execution_count": 1,
   "metadata": {},
   "outputs": [],
   "source": [
    "using Plots\n",
    "using DiffEqFlux, OrdinaryDiffEq, Flux, Optim\n",
    "include(\"/Users/piotrsokol/Documents/RNNODE.jl/src/rnn_ode.jl\")\n",
    "import DiffEqSensitivity: ischeckpointing, isconcretetype\n",
    "using Zygote\n",
    "using LaTeXStrings\n",
    "using MLDataUtils\n",
    "#ENV[\"PYTHON\"] = \"/Users/piotrsokol/anaconda3/envs/bortho/bin/python\"\n",
    "#using Pkg; Pkg.build(\"PyCall\")\n",
    "using PyCall"
   ]
  },
  {
   "source": [
    "# Testing (random) copy memory implementations"
   ],
   "cell_type": "markdown",
   "metadata": {}
  },
  {
   "source": [
    "### The first step to ensure consistency between the discrete time and continuous time implementation is to use the python code to generate a dataset"
   ],
   "cell_type": "markdown",
   "metadata": {}
  },
  {
   "cell_type": "code",
   "execution_count": 2,
   "metadata": {},
   "outputs": [
    {
     "output_type": "execute_result",
     "data": {
      "text/plain": [
       "generate_cm (generic function with 1 method)"
      ]
     },
     "metadata": {},
     "execution_count": 2
    }
   ],
   "source": [
    "py\"\"\"\n",
    "import sys\n",
    "sys.path.insert(0, \"/Users/piotrsokol/Documents/block-orthogonal/src/\")\n",
    "\"\"\"\n",
    "generate_rcm = pyimport(\"data_utils\")[\"_generate_random_copy_memory\"]\n",
    "# _generate_random_copy_memory(min_lag, max_lag, num:int, set:str, slen:int=10)\n",
    "\n",
    "generate_cm() = pyimport(\"data_utils\")[\"_generate_copy_memory\"](100,Int(1e4),:train)\n",
    "# _generate_copy_memory(T:int, num: int, set:str)\n"
   ]
  },
  {
   "cell_type": "code",
   "execution_count": 3,
   "metadata": {},
   "outputs": [
    {
     "output_type": "execute_result",
     "data": {
      "text/plain": [
       "([4 7 … 8 8; 5 2 … 8 8; … ; 1 0 … 8 8; 4 2 … 8 8], [8 8 … 1 3; 8 8 … 2 1; … ; 8 8 … 6 1; 8 8 … 2 5])"
      ]
     },
     "metadata": {},
     "execution_count": 3
    }
   ],
   "source": [
    "a,b = generate_cm()"
   ]
  },
  {
   "cell_type": "code",
   "execution_count": 4,
   "metadata": {},
   "outputs": [
    {
     "output_type": "execute_result",
     "data": {
      "text/plain": [
       "(10000, 120)"
      ]
     },
     "metadata": {},
     "execution_count": 4
    }
   ],
   "source": [
    "size(b)"
   ]
  },
  {
   "cell_type": "code",
   "execution_count": 4,
   "metadata": {},
   "outputs": [
    {
     "output_type": "execute_result",
     "data": {
      "text/plain": [
       "9"
      ],
      "text/latex": "9"
     },
     "metadata": {},
     "execution_count": 4
    }
   ],
   "source": [
    "min_lag = 100\n",
    "max_lag = 120\n",
    "n_train = Int(1e4)\n",
    "n_test = Int(1e3)\n",
    "n_valid = Int(1e3)\n",
    "slen = 10\n",
    "\n",
    "input_size=9"
   ]
  },
  {
   "cell_type": "code",
   "execution_count": 5,
   "metadata": {},
   "outputs": [
    {
     "output_type": "execute_result",
     "data": {
      "text/plain": [
       "1200120-element ConstantInterpolation{Array{Int64,2},Array{Int64,1},Symbol,true,Int64}:\n",
       "   4\n",
       "   5\n",
       "   6\n",
       "   1\n",
       "   2\n",
       "   0\n",
       "   3\n",
       "   5\n",
       "   2\n",
       "   7\n",
       "   1\n",
       "   3\n",
       "   7\n",
       "   ⋮\n",
       " 108\n",
       " 109\n",
       " 110\n",
       " 111\n",
       " 112\n",
       " 113\n",
       " 114\n",
       " 115\n",
       " 116\n",
       " 117\n",
       " 118\n",
       " 119"
      ]
     },
     "metadata": {},
     "execution_count": 5
    }
   ],
   "source": [
    "cpt = ConstantInterpolationFixedGrid(a)"
   ]
  },
  {
   "cell_type": "code",
   "execution_count": 6,
   "metadata": {},
   "outputs": [
    {
     "output_type": "execute_result",
     "data": {
      "text/plain": [
       "120-element Array{Int64,1}:\n",
       "   0\n",
       "   1\n",
       "   2\n",
       "   3\n",
       "   4\n",
       "   5\n",
       "   6\n",
       "   7\n",
       "   8\n",
       "   9\n",
       "  10\n",
       "  11\n",
       "  12\n",
       "   ⋮\n",
       " 108\n",
       " 109\n",
       " 110\n",
       " 111\n",
       " 112\n",
       " 113\n",
       " 114\n",
       " 115\n",
       " 116\n",
       " 117\n",
       " 118\n",
       " 119"
      ]
     },
     "metadata": {},
     "execution_count": 6
    }
   ],
   "source": [
    "cpt.t"
   ]
  },
  {
   "cell_type": "code",
   "execution_count": 7,
   "metadata": {},
   "outputs": [
    {
     "output_type": "execute_result",
     "data": {
      "text/plain": [
       "onehot (generic function with 1 method)"
      ]
     },
     "metadata": {},
     "execution_count": 7
    }
   ],
   "source": [
    "onehot(labels_raw) = convertlabel(LabelEnc.OneOfK, labels_raw,\n",
    "                                    LabelEnc.NativeLabels(collect(0:input_size-1)))"
   ]
  },
  {
   "cell_type": "code",
   "execution_count": 8,
   "metadata": {},
   "outputs": [
    {
     "output_type": "execute_result",
     "data": {
      "text/plain": [
       "1200120-element ConstantInterpolation{Array{Int64,2},Array{Int64,1},Symbol,true,Int64}:\n",
       "   4\n",
       "   5\n",
       "   6\n",
       "   1\n",
       "   2\n",
       "   0\n",
       "   3\n",
       "   5\n",
       "   2\n",
       "   7\n",
       "   1\n",
       "   3\n",
       "   7\n",
       "   ⋮\n",
       " 108\n",
       " 109\n",
       " 110\n",
       " 111\n",
       " 112\n",
       " 113\n",
       " 114\n",
       " 115\n",
       " 116\n",
       " 117\n",
       " 118\n",
       " 119"
      ]
     },
     "metadata": {},
     "execution_count": 8
    }
   ],
   "source": [
    "cpt"
   ]
  },
  {
   "cell_type": "code",
   "execution_count": 13,
   "metadata": {},
   "outputs": [
    {
     "output_type": "execute_result",
     "data": {
      "text/plain": [
       "9×10000 Array{Int64,2}:\n",
       " 0  0  0  0  0  1  0  0  0  0  0  0  0  …  0  0  0  0  0  0  0  0  0  1  0  0\n",
       " 0  0  0  1  0  0  0  0  0  0  1  0  0     0  0  0  0  0  0  0  0  0  0  1  0\n",
       " 0  0  0  0  1  0  0  0  1  0  0  0  0     0  0  0  0  0  0  0  0  0  0  0  0\n",
       " 0  0  0  0  0  0  1  0  0  0  0  1  0     0  0  0  0  0  0  0  0  0  0  0  0\n",
       " 1  0  0  0  0  0  0  0  0  0  0  0  0     0  0  0  1  0  0  0  0  0  0  0  1\n",
       " 0  1  0  0  0  0  0  1  0  0  0  0  0  …  1  0  1  0  0  0  0  0  0  0  0  0\n",
       " 0  0  1  0  0  0  0  0  0  0  0  0  0     0  1  0  0  0  0  1  0  0  0  0  0\n",
       " 0  0  0  0  0  0  0  0  0  1  0  0  1     0  0  0  0  1  1  0  1  1  0  0  0\n",
       " 0  0  0  0  0  0  0  0  0  0  0  0  0     0  0  0  0  0  0  0  0  0  0  0  0"
      ]
     },
     "metadata": {},
     "execution_count": 13
    }
   ],
   "source": [
    "onehot(cpt(0.1))"
   ]
  },
  {
   "cell_type": "code",
   "execution_count": 7,
   "metadata": {},
   "outputs": [
    {
     "output_type": "execute_result",
     "data": {
      "text/plain": [
       "10000×120 Array{Int64,2}:\n",
       " 8  8  8  8  8  8  8  8  8  8  8  8  8  …  8  8  4  7  5  0  3  3  3  7  1  3\n",
       " 8  8  8  8  8  8  8  8  8  8  8  8  8     8  8  5  2  4  7  6  0  0  4  2  1\n",
       " 8  8  8  8  8  8  8  8  8  8  8  8  8     8  8  6  7  7  6  0  1  5  1  5  0\n",
       " 8  8  8  8  8  8  8  8  8  8  8  8  8     8  8  1  4  3  0  3  5  6  7  7  0\n",
       " 8  8  8  8  8  8  8  8  8  8  8  8  8     8  8  2  3  0  1  3  5  3  3  6  7\n",
       " 8  8  8  8  8  8  8  8  8  8  8  8  8  …  8  8  0  1  1  1  7  0  7  2  4  7\n",
       " 8  8  8  8  8  8  8  8  8  8  8  8  8     8  8  3  6  3  2  7  4  2  0  0  4\n",
       " 8  8  8  8  8  8  8  8  8  8  8  8  8     8  8  5  5  6  0  4  1  7  4  1  2\n",
       " 8  8  8  8  8  8  8  8  8  8  8  8  8     8  8  2  7  0  1  1  7  1  1  3  6\n",
       " 8  8  8  8  8  8  8  8  8  8  8  8  8     8  8  7  3  6  2  3  0  6  3  5  4\n",
       " 8  8  8  8  8  8  8  8  8  8  8  8  8  …  8  8  1  2  4  3  4  6  4  7  7  4\n",
       " 8  8  8  8  8  8  8  8  8  8  8  8  8     8  8  3  4  4  4  0  6  7  4  3  2\n",
       " 8  8  8  8  8  8  8  8  8  8  8  8  8     8  8  7  7  5  5  5  0  1  5  1  3\n",
       " ⋮              ⋮              ⋮        ⋱        ⋮              ⋮           \n",
       " 8  8  8  8  8  8  8  8  8  8  8  8  8     8  8  5  5  1  0  2  4  1  4  4  4\n",
       " 8  8  8  8  8  8  8  8  8  8  8  8  8     8  8  6  5  3  3  3  2  6  2  7  3\n",
       " 8  8  8  8  8  8  8  8  8  8  8  8  8  …  8  8  5  6  1  7  0  7  7  4  2  7\n",
       " 8  8  8  8  8  8  8  8  8  8  8  8  8     8  8  4  3  2  5  3  5  0  1  2  7\n",
       " 8  8  8  8  8  8  8  8  8  8  8  8  8     8  8  7  5  7  6  4  3  0  1  5  1\n",
       " 8  8  8  8  8  8  8  8  8  8  8  8  8     8  8  7  7  1  5  7  7  7  7  0  2\n",
       " 8  8  8  8  8  8  8  8  8  8  8  8  8     8  8  6  6  7  7  2  0  6  0  7  1\n",
       " 8  8  8  8  8  8  8  8  8  8  8  8  8  …  8  8  7  7  0  4  2  2  4  7  4  5\n",
       " 8  8  8  8  8  8  8  8  8  8  8  8  8     8  8  7  2  5  0  3  1  4  5  1  7\n",
       " 8  8  8  8  8  8  8  8  8  8  8  8  8     8  8  0  7  1  5  0  7  5  5  3  0\n",
       " 8  8  8  8  8  8  8  8  8  8  8  8  8     8  8  1  0  1  4  5  7  0  5  6  1\n",
       " 8  8  8  8  8  8  8  8  8  8  8  8  8     8  8  4  2  0  1  1  4  0  6  2  5"
      ]
     },
     "metadata": {},
     "execution_count": 7
    }
   ],
   "source": [
    "b"
   ]
  },
  {
   "cell_type": "code",
   "execution_count": null,
   "metadata": {},
   "outputs": [],
   "source": []
  }
 ]
}