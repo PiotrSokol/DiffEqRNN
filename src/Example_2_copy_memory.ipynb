{
 "metadata": {
  "language_info": {
   "codemirror_mode": {
    "name": "ipython",
    "version": 3
   },
   "file_extension": ".py",
   "mimetype": "text/x-python",
   "name": "python",
   "nbconvert_exporter": "python",
   "pygments_lexer": "ipython3",
   "version": "3.7.6-final"
  },
  "orig_nbformat": 2,
  "kernelspec": {
   "name": "julia-1.5",
   "display_name": "Julia 1.5.1"
  }
 },
 "nbformat": 4,
 "nbformat_minor": 2,
 "cells": [
  {
   "cell_type": "code",
   "execution_count": 1,
   "metadata": {},
   "outputs": [],
   "source": [
    "using Plots\n",
    "using DiffEqFlux, OrdinaryDiffEq, Flux, Optim\n",
    "include(\"/Users/piotrsokol/Documents/RNNODE.jl/src/rnn_ode.jl\")\n",
    "import DiffEqSensitivity: ischeckpointing, isconcretetype\n",
    "using Zygote\n",
    "using LaTeXStrings\n",
    "using MLDataUtils\n",
    "#ENV[\"PYTHON\"] = \"/Users/piotrsokol/anaconda3/envs/bortho/bin/python\"\n",
    "#using Pkg; Pkg.build(\"PyCall\")\n",
    "using PyCall"
   ]
  },
  {
   "source": [
    "# Testing (random) copy memory implementations"
   ],
   "cell_type": "markdown",
   "metadata": {}
  },
  {
   "source": [
    "### The first step to ensure consistency between the discrete time and continuous time implementation is to use the python code to generate a dataset"
   ],
   "cell_type": "markdown",
   "metadata": {}
  },
  {
   "cell_type": "code",
   "execution_count": 2,
   "metadata": {},
   "outputs": [
    {
     "output_type": "execute_result",
     "data": {
      "text/plain": [
       "generate_cm (generic function with 1 method)"
      ]
     },
     "metadata": {},
     "execution_count": 2
    }
   ],
   "source": [
    "py\"\"\"\n",
    "import sys\n",
    "sys.path.insert(0, \"/Users/piotrsokol/Documents/block-orthogonal/src/\")\n",
    "\"\"\"\n",
    "generate_rcm = pyimport(\"data_utils\")[\"_generate_random_copy_memory\"]\n",
    "# _generate_random_copy_memory(min_lag, max_lag, num:int, set:str, slen:int=10)\n",
    "\n",
    "generate_cm() = pyimport(\"data_utils\")[\"_generate_copy_memory\"](100,Int(1e4),:train)\n",
    "# _generate_copy_memory(T:int, num: int, set:str)\n"
   ]
  },
  {
   "cell_type": "code",
   "execution_count": 4,
   "metadata": {},
   "outputs": [
    {
     "output_type": "execute_result",
     "data": {
      "text/plain": [
       "([4 7 … 8 8; 5 2 … 8 8; … ; 1 0 … 8 8; 4 2 … 8 8], [8 8 … 1 3; 8 8 … 2 1; … ; 8 8 … 6 1; 8 8 … 2 5])"
      ]
     },
     "metadata": {},
     "execution_count": 4
    }
   ],
   "source": [
    "pyimport(\"data_utils\")[\"_generate_copy_memory\"](100,Int(1e4),:train)"
   ]
  },
  {
   "cell_type": "code",
   "execution_count": 3,
   "metadata": {},
   "outputs": [
    {
     "output_type": "execute_result",
     "data": {
      "text/plain": [
       "([4 7 … 8 8; 5 2 … 8 8; … ; 1 0 … 8 8; 4 2 … 8 8], [8 8 … 1 3; 8 8 … 2 1; … ; 8 8 … 6 1; 8 8 … 2 5])"
      ]
     },
     "metadata": {},
     "execution_count": 3
    }
   ],
   "source": [
    "a,b = generate_cm()"
   ]
  },
  {
   "cell_type": "code",
   "execution_count": 4,
   "metadata": {},
   "outputs": [
    {
     "output_type": "execute_result",
     "data": {
      "text/plain": [
       "9"
      ],
      "text/latex": "9"
     },
     "metadata": {},
     "execution_count": 4
    }
   ],
   "source": [
    "min_lag = 100\n",
    "max_lag = 120\n",
    "n_train = Int(1e4)\n",
    "n_test = Int(1e3)\n",
    "n_valid = Int(1e3)\n",
    "slen = 10\n",
    "\n",
    "input_size=9"
   ]
  },
  {
   "cell_type": "code",
   "execution_count": 5,
   "metadata": {},
   "outputs": [
    {
     "output_type": "execute_result",
     "data": {
      "text/plain": [
       "1200120-element ConstantInterpolation{Array{Int64,2},Array{Int64,1},Symbol,true,Int64}:\n",
       "   4\n",
       "   5\n",
       "   6\n",
       "   1\n",
       "   2\n",
       "   0\n",
       "   3\n",
       "   5\n",
       "   2\n",
       "   7\n",
       "   1\n",
       "   3\n",
       "   7\n",
       "   ⋮\n",
       " 108\n",
       " 109\n",
       " 110\n",
       " 111\n",
       " 112\n",
       " 113\n",
       " 114\n",
       " 115\n",
       " 116\n",
       " 117\n",
       " 118\n",
       " 119"
      ]
     },
     "metadata": {},
     "execution_count": 5
    }
   ],
   "source": [
    "a,b =generate_cm(100,n_train,\"train\")\n",
    "cpt = ConstantInterpolationFixedGrid(a)"
   ]
  },
  {
   "cell_type": "code",
   "execution_count": 6,
   "metadata": {},
   "outputs": [
    {
     "output_type": "execute_result",
     "data": {
      "text/plain": [
       "1200120-element ConstantInterpolation{Array{Int64,2},Array{Int64,1},Symbol,true,Int64}:\n",
       "   4\n",
       "   5\n",
       "   6\n",
       "   1\n",
       "   2\n",
       "   0\n",
       "   3\n",
       "   5\n",
       "   2\n",
       "   7\n",
       "   1\n",
       "   3\n",
       "   7\n",
       "   ⋮\n",
       " 108\n",
       " 109\n",
       " 110\n",
       " 111\n",
       " 112\n",
       " 113\n",
       " 114\n",
       " 115\n",
       " 116\n",
       " 117\n",
       " 118\n",
       " 119"
      ]
     },
     "metadata": {},
     "execution_count": 6
    }
   ],
   "source": [
    "cpt = ConstantInterpolationFixedGrid(a)"
   ]
  },
  {
   "cell_type": "code",
   "execution_count": 7,
   "metadata": {},
   "outputs": [
    {
     "output_type": "execute_result",
     "data": {
      "text/plain": [
       "onehot (generic function with 1 method)"
      ]
     },
     "metadata": {},
     "execution_count": 7
    }
   ],
   "source": [
    "onehot(labels_raw) = convertlabel(LabelEnc.OneOfK, labels_raw,\n",
    "                                    LabelEnc.NativeLabels(collect(0:input_size-1)))"
   ]
  },
  {
   "cell_type": "code",
   "execution_count": 10,
   "metadata": {},
   "outputs": [
    {
     "output_type": "execute_result",
     "data": {
      "text/plain": [
       "100-element Array{Int64,1}:\n",
       " 4\n",
       " 5\n",
       " 6\n",
       " 1\n",
       " 2\n",
       " 0\n",
       " 3\n",
       " 5\n",
       " 2\n",
       " 7\n",
       " 1\n",
       " 3\n",
       " 7\n",
       " ⋮\n",
       " 2\n",
       " 4\n",
       " 7\n",
       " 4\n",
       " 6\n",
       " 2\n",
       " 5\n",
       " 2\n",
       " 2\n",
       " 1\n",
       " 0\n",
       " 2"
      ]
     },
     "metadata": {},
     "execution_count": 10
    }
   ],
   "source": [
    "cpt"
   ]
  },
  {
   "cell_type": "code",
   "execution_count": null,
   "metadata": {},
   "outputs": [],
   "source": []
  }
 ]
}