{
 "metadata": {
  "language_info": {
   "codemirror_mode": {
    "name": "ipython",
    "version": 3
   },
   "file_extension": ".py",
   "mimetype": "text/x-python",
   "name": "python",
   "nbconvert_exporter": "python",
   "pygments_lexer": "ipython3",
   "version": "3.7.6-final"
  },
  "orig_nbformat": 2,
  "kernelspec": {
   "name": "julia-1.5",
   "display_name": "Julia 1.5.1"
  }
 },
 "nbformat": 4,
 "nbformat_minor": 2,
 "cells": [
  {
   "cell_type": "code",
   "execution_count": 1,
   "metadata": {},
   "outputs": [
    {
     "output_type": "execute_result",
     "data": {
      "text/plain": [
       "Float32"
      ]
     },
     "metadata": {},
     "execution_count": 1
    }
   ],
   "source": [
    "using DiffEqFlux, OrdinaryDiffEq, Flux, Optim\n",
    "include(\"/Users/piotrsokol/Documents/RNNODE.jl/src/rnn_ode.jl\")\n",
    "using Zygote\n",
    "using Flux: logitcrossentropy\n",
    "using Flux.Data: DataLoader\n",
    "using MLDatasets, NNlib, MLDataUtils\n",
    "#ENV[\"PYTHON\"] = \"/Users/piotrsokol/anaconda3/envs/bortho/bin/python\"\n",
    "#using Pkg; Pkg.build(\"PyCall\")\n",
    "using PyCall\n",
    "using CUDA\n",
    "# using Parameters: @with_kw, @unpack\n",
    "import Statistics: mean\n",
    "using BSON,NPZ\n",
    "using UUIDs\n",
    "using EllipsisNotation\n",
    "using ProgressMeter\n",
    "using ArgParse\n",
    "FT = Float32"
   ]
  },
  {
   "cell_type": "code",
   "execution_count": 28,
   "metadata": {},
   "outputs": [
    {
     "output_type": "execute_result",
     "data": {
      "text/plain": [
       "evaluate_set (generic function with 1 method)"
      ]
     },
     "metadata": {},
     "execution_count": 28
    }
   ],
   "source": [
    "function onehot(labels_raw; ntoken::Int=9)\n",
    "    return  convertlabel(LabelEnc.OneOfK, labels_raw, LabelEnc.NativeLabels(collect(0:ntoken)))\n",
    "end\n",
    "\n",
    "function preprocess_img(imgs, p)\n",
    "    imgs = reshape( imgs, prod(size(imgs)[1:2]), size(imgs)[3] ) |> x-> FT.(x)\n",
    "    imgs = map(x-> permute!(x,p), eachcol(imgs)) |> x-> hcat(x...)\n",
    "    imgs .-= 0.13066047\n",
    "    imgs./= 0.30810785\n",
    "    return imgs\n",
    "end\n",
    "function get_data(batchsize, device, set::Symbol; train_split=58999/60000)\n",
    "    py_seeds= pyimport(\"data_utils\").__fixed_seeds__\n",
    "    py_random=pyimport(\"numpy.random\");\n",
    "    seeded_rng = py_random.RandomState(py_seeds[\"image\"])\n",
    "    p = seeded_rng.permutation(1:784)\n",
    "\n",
    "    X, labels_raw = MNIST.traindata()\n",
    "    Y = onehot(labels_raw)\n",
    "    X = preprocess_img(X, p)\n",
    "\n",
    "    (x_train, y_train), (x_valid, y_valid) = stratifiedobs((X, Y),p = train_split)\n",
    "    \n",
    "    if set!= :test\n",
    "        return (\n",
    "                DataLoader(device.(collect.((x_train, y_train))); batchsize = batchsize, shuffle = true),\n",
    "                DataLoader(device.(collect.((x_valid, y_valid))); batchsize = batchsize, shuffle = false) )\n",
    "    elseif set == :test\n",
    "        X, labels_raw = MNIST.testdata()\n",
    "        Y = onehot(labels_raw)\n",
    "        X = preprocess_img(X, p)\n",
    "        return (\n",
    "                DataLoader(device.(collect.((x_train, y_train))); batchsize = batchsize, shuffle = true),\n",
    "                DataLoader(device.(collect.((x_valid, y_valid))); batchsize = batchsize, shuffle = false),\n",
    "                DataLoader(device.(collect.((X, Y))); batchsize = batchsize, shuffle = false)\n",
    "            )\n",
    "    end\n",
    "end\n",
    "\n",
    "function get_network(alpha, architecture, initializer, isize, hsize,osize, tsteps, interpolation)\n",
    "    if architecture == \"RNN_TANH\"\n",
    "        ∂rnncell = ∂RNNCell\n",
    "    elseif architecture == \"GRU\"\n",
    "        ∂rnncell = ∂GRUCell\n",
    "    else\n",
    "        ∂rnncell = ∂LSTMCell\n",
    "    end\n",
    "    \"\"\"\n",
    "    Ternary op -> reads as if initializer == \"limitcycle\" or architecture == \"LSTM\" use two argument function dispatch, else additionally pass initializer variable\n",
    "    \"\"\"\n",
    "    ∂rnn = initializer == \"limitcycle\" || architecture == \"LSTM\" ? ∂rnncell(isize, hsize) : ∂rnncell(isize,hsize,Flux.glorot_uniform)\n",
    "\n",
    "    node = RNNODE(∂rnn, (0.f0, tsteps[end]), preprocess=x-> FT.(permutedims(x)), save_end=true, save_start=false, saveat=collect(0.f0:tsteps[end]) )\n",
    "\n",
    "    println(interpolation)\n",
    "    function interpolate(x)\n",
    "        X = Zygote.ignore() do\n",
    "            permutedims(x) |> interpolation\n",
    "        end\n",
    "    end\n",
    "    return Chain( interpolate, node, Array, x-> x[:,:,end], Dense(hsize, osize) )\n",
    "end\n",
    "\n",
    "classify(x) = argmax.(eachcol(x))\n",
    "\n",
    "function evaluate_set(model, data, 𝓁array, accarray, ℒ, set)\n",
    "    loss_set = Float32[]\n",
    "    total_correct = 0\n",
    "    total = 0\n",
    "    @showprogress \"Evaluating $set \"  for (x,y) in data\n",
    "        ŷ = model(x)\n",
    "        𝓁 = ℒ(ŷ,y)\n",
    "        push!(loss_set, 𝓁[1])\n",
    "        target_class = classify(cpu(y))\n",
    "        predicted_class = classify(cpu(ŷ))\n",
    "        total_correct += sum(target_class .== predicted_class)\n",
    "        total += length(target_class)\n",
    "    end\n",
    "    push!(accarray, (total_correct / total)[1] )\n",
    "    push!(𝓁array, mean(loss_set) )\n",
    "    return nothing\n",
    "end\n"
   ]
  },
  {
   "cell_type": "code",
   "execution_count": 29,
   "metadata": {},
   "outputs": [
    {
     "output_type": "stream",
     "name": "stdout",
     "text": [
      "CubicSplineFixedGrid\n"
     ]
    },
    {
     "output_type": "execute_result",
     "data": {
      "text/plain": [
       "ℒ (generic function with 1 method)"
      ]
     },
     "metadata": {},
     "execution_count": 29
    }
   ],
   "source": [
    "α = 1.5 |> FT\n",
    "η = 1e-3 |> FT\n",
    "optimizer = ADAM\n",
    "Random.seed!(1);\n",
    "device = cpu\n",
    "hpsearch = true\n",
    "sets = hpsearch ? [:valid] : [:valid,:test] \n",
    "architecture = \"RNN_TANH\"\n",
    "initializer = \"limitcycle\"\n",
    "hidden_size = 512\n",
    "interpolation = \"CubicSplineFixedGrid\"\n",
    "python_code_dir = \"/Users/piotrsokol/Documents/block-orthogonal/src/\"\n",
    "bs = 100\n",
    "gradient_clipping = FT(1e3)\n",
    "py\"\"\"\n",
    "import sys\n",
    "sys.path.insert(0, $python_code_dir)\n",
    "\"\"\"\n",
    "train_loader,valid_loader = get_data(bs, device, :valid)\n",
    "        eval_sets = Dict(:valid=>valid_loader)\n",
    "metrics = Dict(:test=>Dict(:loss=>FT[], :accuracy=>FT[]), :valid=>Dict(:loss=>FT[], :accuracy=>FT[]))\n",
    "tsteps =  FT(784)\n",
    "\n",
    "nn = get_network(α, architecture, initializer, 1, hidden_size,10, tsteps, eval(Symbol(interpolation)));\n",
    "opt = Flux.Optimiser(ClipValue(gradient_clipping), eval(optimizer)(η))\n",
    "ℒ(ŷ,y) = logitcrossentropy(ŷ,y)"
   ]
  },
  {
   "cell_type": "code",
   "execution_count": 19,
   "metadata": {},
   "outputs": [
    {
     "output_type": "execute_result",
     "data": {
      "text/plain": [
       "(Float32[1.7651266 -0.42407382 … -0.42407382 2.7833593; -0.42407382 -0.42407382 … -0.42407382 -0.42407382; … ; -0.42407382 -0.42407382 … -0.42407382 -0.42407382; -0.42407382 -0.42407382 … -0.42407382 -0.42407382], [0 0 … 0 0; 1 0 … 0 0; … ; 0 0 … 0 0; 0 1 … 1 0])"
      ]
     },
     "metadata": {},
     "execution_count": 19
    }
   ],
   "source": [
    "X,Y = first(train_loader)"
   ]
  },
  {
   "cell_type": "code",
   "execution_count": 31,
   "metadata": {},
   "outputs": [],
   "source": [
    "Flux.train!((x,y)->ℒ(nn(x),y), params(nn), train_loader, opt)"
   ]
  },
  {
   "cell_type": "code",
   "execution_count": null,
   "metadata": {},
   "outputs": [],
   "source": []
  }
 ]
}