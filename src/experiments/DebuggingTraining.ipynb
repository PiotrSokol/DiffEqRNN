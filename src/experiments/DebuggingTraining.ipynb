{
 "metadata": {
  "language_info": {
   "codemirror_mode": {
    "name": "ipython",
    "version": 3
   },
   "file_extension": ".py",
   "mimetype": "text/x-python",
   "name": "python",
   "nbconvert_exporter": "python",
   "pygments_lexer": "ipython3",
   "version": "3.7.6-final"
  },
  "orig_nbformat": 2,
  "kernelspec": {
   "name": "julia-1.5",
   "display_name": "Julia 1.5.1"
  }
 },
 "nbformat": 4,
 "nbformat_minor": 2,
 "cells": [
  {
   "cell_type": "code",
   "execution_count": 1,
   "metadata": {},
   "outputs": [
    {
     "output_type": "execute_result",
     "data": {
      "text/plain": [
       "Float32"
      ]
     },
     "metadata": {},
     "execution_count": 1
    }
   ],
   "source": [
    "using DiffEqFlux, OrdinaryDiffEq, Flux, Optim\n",
    "include(\"/Users/piotrsokol/Documents/RNNODE.jl/src/rnn_ode.jl\")\n",
    "using Zygote\n",
    "using Flux: logitcrossentropy\n",
    "using Flux.Data: DataLoader\n",
    "using MLDatasets, NNlib, MLDataUtils\n",
    "#ENV[\"PYTHON\"] = \"/Users/piotrsokol/anaconda3/envs/bortho/bin/python\"\n",
    "#using Pkg; Pkg.build(\"PyCall\")\n",
    "using PyCall\n",
    "using CUDA\n",
    "# using Parameters: @with_kw, @unpack\n",
    "import Statistics: mean, std\n",
    "using BSON,NPZ\n",
    "using UUIDs\n",
    "using EllipsisNotation\n",
    "using ProgressMeter\n",
    "using ArgParse\n",
    "FT = Float32"
   ]
  },
  {
   "cell_type": "code",
   "execution_count": 2,
   "metadata": {},
   "outputs": [],
   "source": [
    "    py\"\"\"\n",
    "    import sys\n",
    "    sys.path.insert(0, \"/Users/piotrsokol/Documents/block-orthogonal/src/\")\n",
    "    \"\"\""
   ]
  },
  {
   "cell_type": "code",
   "execution_count": 3,
   "metadata": {},
   "outputs": [
    {
     "output_type": "execute_result",
     "data": {
      "text/plain": [
       "get_data (generic function with 1 method)"
      ]
     },
     "metadata": {},
     "execution_count": 3
    }
   ],
   "source": [
    "function onehot(labels_raw; ntoken::Int=9)\n",
    "    return  convertlabel(LabelEnc.OneOfK, labels_raw, LabelEnc.NativeLabels(collect(0:ntoken)))\n",
    "end\n",
    "\n",
    "function preprocess_img(imgs, p)\n",
    "    imgs = reshape( imgs, prod(size(imgs)[1:2]), size(imgs)[3] ) |> x-> FT.(x)\n",
    "    imgs = map(x-> permute!(x,p), eachcol(imgs)) |> x-> hcat(x...)\n",
    "    imgs .-= 0.13066047\n",
    "    imgs./= 0.30810785\n",
    "    return imgs\n",
    "end\n",
    "function get_data(batchsize, device, set::Symbol; train_split=58999/60000)\n",
    "    py_seeds= pyimport(\"data_utils\").__fixed_seeds__\n",
    "    py_random=pyimport(\"numpy.random\");\n",
    "    seeded_rng = py_random.RandomState(py_seeds[\"image\"])\n",
    "    p = seeded_rng.permutation(1:784)\n",
    "\n",
    "    X, labels_raw = MNIST.traindata()\n",
    "    Y = onehot(labels_raw)\n",
    "    X = preprocess_img(X, p)\n",
    "\n",
    "    (x_train, y_train), (x_valid, y_valid) = stratifiedobs((X, Y),p = train_split)\n",
    "    \n",
    "    if set!= :test\n",
    "        return (\n",
    "                DataLoader(device.(collect.((x_train, y_train))); batchsize = batchsize, shuffle = true),\n",
    "                DataLoader(device.(collect.((x_valid, y_valid))); batchsize = batchsize, shuffle = false) )\n",
    "    elseif set == :test\n",
    "        X, labels_raw = MNIST.testdata()\n",
    "        Y = onehot(labels_raw)\n",
    "        X = preprocess_img(X, p)\n",
    "        return (\n",
    "                DataLoader(device.(collect.((x_train, y_train))); batchsize = batchsize, shuffle = true),\n",
    "                DataLoader(device.(collect.((x_valid, y_valid))); batchsize = batchsize, shuffle = false),\n",
    "                DataLoader(device.(collect.((X, Y))); batchsize = batchsize, shuffle = false)\n",
    "            )\n",
    "    end\n",
    "end"
   ]
  },
  {
   "cell_type": "code",
   "execution_count": 4,
   "metadata": {},
   "outputs": [],
   "source": [
    "tr_loader, valid_loader = get_data(100, cpu, :valid);"
   ]
  },
  {
   "cell_type": "code",
   "execution_count": 5,
   "metadata": {},
   "outputs": [],
   "source": [
    "X,Y = first(tr_loader);"
   ]
  },
  {
   "cell_type": "code",
   "execution_count": 6,
   "metadata": {},
   "outputs": [
    {
     "output_type": "execute_result",
     "data": {
      "text/plain": [
       "get_network (generic function with 1 method)"
      ]
     },
     "metadata": {},
     "execution_count": 6
    }
   ],
   "source": [
    "function get_network(alpha, architecture, initializer, isize, hsize,osize, tsteps, interpolation)\n",
    "    if architecture == \"RNN_TANH\"\n",
    "        ∂rnncell = ∂RNNCell\n",
    "    elseif architecture == \"GRU\"\n",
    "        ∂rnncell = ∂GRUCell\n",
    "    else\n",
    "        ∂rnncell = ∂LSTMCell\n",
    "    end\n",
    "    \"\"\"\n",
    "    Ternary op -> reads as if initializer == \"limitcycle\" or architecture == \"LSTM\" use two argument function dispatch, else additionally pass initializer variable\n",
    "    \"\"\"\n",
    "    ∂rnn = initializer == \"limitcycle\" || architecture == \"LSTM\" ? ∂rnncell(isize, hsize) : ∂rnncell(isize,hsize,Flux.glorot_uniform)\n",
    "\n",
    "    node = RNNODE(∂rnn, (0.f0, tsteps[end]), preprocess=x-> FT.(permutedims(x)), save_end=true, save_start=false, saveat=collect(0.f0:tsteps[end]) )\n",
    "\n",
    "    function interpolate(x)\n",
    "        X = Zygote.ignore() do\n",
    "            permutedims(x) |> interpolation\n",
    "        end\n",
    "    end\n",
    "    return Chain( interpolate, node, x->x(tsteps[end]), Dense(hsize, osize) )\n",
    "end"
   ]
  },
  {
   "cell_type": "code",
   "execution_count": 7,
   "metadata": {},
   "outputs": [],
   "source": [
    "nn = get_network(1.5f0, \"RNN_TANH\", \"limitcycle\", 1, 256, 10, 784, CubicSplineFixedGrid);"
   ]
  },
  {
   "cell_type": "code",
   "execution_count": 8,
   "metadata": {},
   "outputs": [
    {
     "output_type": "execute_result",
     "data": {
      "text/plain": [
       "10×100 Array{Float32,2}:\n",
       "  1.84861     1.34054      0.829864   …   0.724764   1.63817    1.95265\n",
       " -0.189288    0.607541     0.555655      -0.104347   0.662509   0.656207\n",
       " -0.0441701  -0.0232721   -1.04787       -0.752683   0.166954  -0.143824\n",
       " -0.350011   -0.432372     0.0776971     -0.232457  -0.202694  -0.646513\n",
       " -0.14678    -0.00269686   1.38608        0.476263   0.45857   -0.446222\n",
       "  1.43147     0.246254    -0.321945   …  -0.387105   0.414585   0.850229\n",
       "  0.891496    1.03181      0.954996       0.797941   0.265754   0.401042\n",
       " -1.28737    -0.536155    -0.774717      -0.320387  -0.975638  -0.710939\n",
       "  1.39438     0.972185     1.80663        1.26954    1.31069    0.757936\n",
       " -0.741829   -0.939822    -0.758118      -0.888271  -1.35411   -0.479881"
      ]
     },
     "metadata": {},
     "execution_count": 8
    }
   ],
   "source": [
    "yhat = nn(X)"
   ]
  },
  {
   "cell_type": "code",
   "execution_count": 22,
   "metadata": {},
   "outputs": [
    {
     "output_type": "execute_result",
     "data": {
      "text/plain": [
       "\"CubicSplineFixedGrid\""
      ]
     },
     "metadata": {},
     "execution_count": 22
    }
   ],
   "source": [
    "interpolation= \"CubicSplineFixedGrid\"\n",
    "itp = interpolation"
   ]
  },
  {
   "cell_type": "code",
   "execution_count": 27,
   "metadata": {},
   "outputs": [
    {
     "output_type": "execute_result",
     "data": {
      "text/plain": [
       ":CubicSplineFixedGrid"
      ]
     },
     "metadata": {},
     "execution_count": 27
    }
   ],
   "source": [
    ":(Symbol($itp)) |>eval"
   ]
  },
  {
   "cell_type": "code",
   "execution_count": 28,
   "metadata": {},
   "outputs": [
    {
     "output_type": "execute_result",
     "data": {
      "text/plain": [
       ":CubicSplineFixedGrid"
      ]
     },
     "metadata": {},
     "execution_count": 28
    }
   ],
   "source": [
    "Symbol(itp)"
   ]
  },
  {
   "cell_type": "code",
   "execution_count": 31,
   "metadata": {},
   "outputs": [
    {
     "output_type": "execute_result",
     "data": {
      "text/plain": [
       "CubicSplineFixedGrid"
      ]
     },
     "metadata": {},
     "execution_count": 31
    }
   ],
   "source": []
  },
  {
   "cell_type": "code",
   "execution_count": null,
   "metadata": {},
   "outputs": [],
   "source": []
  }
 ]
}